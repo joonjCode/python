{
 "cells": [
  {
   "cell_type": "code",
   "execution_count": 1,
   "metadata": {},
   "outputs": [],
   "source": [
    "import re\n",
    "import requests\n",
    "import time\n",
    "from requests_html import HTML\n",
    "from selenium import webdriver\n",
    "from selenium.webdriver.chrome.options import Options"
   ]
  },
  {
   "cell_type": "code",
   "execution_count": 2,
   "metadata": {},
   "outputs": [],
   "source": [
    "options = Options()\n",
    "options.add_argument('--headless')\n",
    "\n",
    "driver = webdriver.Chrome(options = options)"
   ]
  },
  {
   "cell_type": "code",
   "execution_count": 3,
   "metadata": {},
   "outputs": [],
   "source": [
    "categories = [\n",
    "    'https://www.amazon.com/s?bbn=16225007011&rh=n%3A16225007011%2Cn%3A193870011&dc&fst=as%3Aoff&qid=1589403115&rnid=16225007011&ref=lp_16225007011_nr_n_1',\n",
    "    'https://www.amazon.com/s?bbn=16225007011&rh=n%3A16225007011%2Cn%3A1292110011&dc&fst=as%3Aoff&qid=1589403115&rnid=16225007011&ref=lp_16225007011_nr_n_3',\n",
    "    'https://www.amazon.com/s?bbn=16225007011&rh=n%3A16225007011%2Cn%3A3011391011&dc&fst=as%3Aoff&qid=1589403115&rnid=16225007011&ref=lp_16225007011_nr_n_4',\n",
    "    'https://www.amazon.com/s?bbn=16225007011&rh=n%3A16225007011%2Cn%3A1292115011&dc&fst=as%3Aoff&qid=1589403115&rnid=16225007011&ref=lp_16225007011_nr_n_5'\n",
    "]"
   ]
  },
  {
   "cell_type": "code",
   "execution_count": 4,
   "metadata": {},
   "outputs": [],
   "source": [
    "first_url = categories[0]"
   ]
  },
  {
   "cell_type": "code",
   "execution_count": 5,
   "metadata": {},
   "outputs": [],
   "source": [
    "driver.get(first_url)"
   ]
  },
  {
   "cell_type": "code",
   "execution_count": 6,
   "metadata": {},
   "outputs": [],
   "source": [
    "body_el = driver.find_element_by_css_selector('body')\n",
    "html_str = body_el.get_attribute('innerHTML')"
   ]
  },
  {
   "cell_type": "code",
   "execution_count": 7,
   "metadata": {},
   "outputs": [],
   "source": [
    "html_obj = HTML(html=html_str)"
   ]
  },
  {
   "cell_type": "code",
   "execution_count": 8,
   "metadata": {},
   "outputs": [],
   "source": [
    "new_links = [x for x in html_obj.links if x.startswith('/')]\n",
    "page_links = [f'https://www.amazon.com{x}' for x in new_links]"
   ]
  },
  {
   "cell_type": "code",
   "execution_count": 9,
   "metadata": {},
   "outputs": [],
   "source": [
    "def scrape_product_page(url, title_lookup = '#productTitle'\n",
    "    ,price_lookup = '#priceblock_ourprice'):\n",
    "    driver.get(url)\n",
    "    time.sleep(1.5)\n",
    "    body_el = driver.find_element_by_css_selector('body')\n",
    "    html_str = body_el.get_attribute('innerHTML')\n",
    "    html_obj = HTML(html=html_str)\n",
    "    product_title = html_obj.find(title_lookup, first = True).text\n",
    "    product_price = html_obj.find(price_lookup, first = True).text\n",
    "    return product_title, product_price"
   ]
  },
  {
   "cell_type": "code",
   "execution_count": 10,
   "metadata": {},
   "outputs": [],
   "source": [
    "regex_options = [\n",
    "    r'https://www.amazon.com/gp/product/(?P<product_id>[\\w-]+)/',\n",
    "    r'https://www.amazon.com/dp/(?P<product_id>[\\w-]+)/',\n",
    "    r'https://www.amazon.com/(?P<slug>[\\w-]+)/dp/(?P<product_id>[\\w-]+)/'\n",
    "]"
   ]
  },
  {
   "cell_type": "code",
   "execution_count": 11,
   "metadata": {},
   "outputs": [],
   "source": [
    "def extract_product_id_from_url(url):\n",
    "    product_id = None\n",
    "    for regex_str in regex_options:\n",
    "        regex = re.compile(regex_str)\n",
    "        match = regex.match(url)\n",
    "        if match != None:\n",
    "            try:\n",
    "                product_id = match['product_id']\n",
    "            except:\n",
    "                pass\n",
    "            \n",
    "    return product_id"
   ]
  },
  {
   "cell_type": "code",
   "execution_count": 12,
   "metadata": {},
   "outputs": [],
   "source": [
    "# page_links = [x for x in page_links if extract_product_id_from_url(x) != None]\n",
    "\n",
    "def clean_page_links(page_links = []):\n",
    "    final_page_links = []\n",
    "    for url in page_links:\n",
    "        product_id = extract_product_id_from_url(url)\n",
    "        if product_id != None:\n",
    "            final_page_links.append({'url':url, 'product_id':product_id})\n",
    "    return final_page_links\n",
    "\n",
    "cleaned_links = clean_page_links(page_links)"
   ]
  },
  {
   "cell_type": "code",
   "execution_count": 18,
   "metadata": {},
   "outputs": [
    {
     "data": {
      "text/plain": [
       "181"
      ]
     },
     "execution_count": 18,
     "metadata": {},
     "output_type": "execute_result"
    }
   ],
   "source": [
    "len(page_links)"
   ]
  },
  {
   "cell_type": "code",
   "execution_count": 23,
   "metadata": {},
   "outputs": [
    {
     "data": {
      "text/plain": [
       "38"
      ]
     },
     "execution_count": 23,
     "metadata": {},
     "output_type": "execute_result"
    }
   ],
   "source": [
    "len(cleaned_links)"
   ]
  },
  {
   "cell_type": "code",
   "execution_count": 28,
   "metadata": {},
   "outputs": [
    {
     "data": {
      "text/plain": [
       "[{'url': 'https://www.amazon.com/Blue-NAND-500GB-SSD-WDS500G2B0A/dp/B073SBZ8YH/ref=sr_1_16?dchild=1&fst=as%3Aoff&qid=1589819517&rnid=16225007011&s=computers-intl-ship&sr=1-16#customerReviews',\n",
       "  'product_id': 'B073SBZ8YH'},\n",
       " {'url': 'https://www.amazon.com/Thermaltake-Certified-Continuous-cooling-PS-SPD-0500NPCWUS-W/dp/B014W3EM2W/ref=sr_1_14?dchild=1&fst=as%3Aoff&qid=1589819517&rnid=16225007011&s=computers-intl-ship&sr=1-14#customerReviews',\n",
       "  'product_id': 'B014W3EM2W'},\n",
       " {'url': 'https://www.amazon.com/Passport-Portable-External-Drive-Black/dp/B07VTFN6HM/ref=sr_1_12?dchild=1&fst=as%3Aoff&qid=1589819517&rnid=16225007011&s=computers-intl-ship&sr=1-12#customerReviews',\n",
       "  'product_id': 'B07VTFN6HM'},\n",
       " {'url': 'https://www.amazon.com/Samsung-970-EVO-1TB-MZ-V7E1T0BW/dp/B07BN217QG/ref=sr_1_5?dchild=1&fst=as%3Aoff&qid=1589819517&rnid=16225007011&s=computers-intl-ship&sr=1-5#customerReviews',\n",
       "  'product_id': 'B07BN217QG'},\n",
       " {'url': 'https://www.amazon.com/Samsung-Inch-Internal-MZ-76E1T0B-AM/dp/B078DPCY3T/ref=sr_1_6?dchild=1&fst=as%3Aoff&qid=1589819517&rnid=16225007011&s=computers-intl-ship&sr=1-6#customerReviews',\n",
       "  'product_id': 'B078DPCY3T'},\n",
       " {'url': 'https://www.amazon.com/Passport-Portable-External-Drive-2-Pack/dp/B088P91Y3B/ref=sr_1_12?fst=as%3Aoff&qid=1589819517&rnid=16225007011&s=computers-intl-ship&sr=1-12',\n",
       "  'product_id': 'B088P91Y3B'},\n",
       " {'url': 'https://www.amazon.com/Toshiba-HDTB420XK3AA-Canvio-Portable-External/dp/B079D3D8NR/ref=sr_1_11?dchild=1&fst=as%3Aoff&qid=1589819517&rnid=16225007011&s=computers-intl-ship&sr=1-11',\n",
       "  'product_id': 'B079D3D8NR'},\n",
       " {'url': 'https://www.amazon.com/AMD-Ryzen-3600-12-Thread-Processor/dp/B07STGGQ18/ref=sr_1_3?dchild=1&fst=as%3Aoff&qid=1589819517&rnid=16225007011&s=computers-intl-ship&sr=1-3',\n",
       "  'product_id': 'B07STGGQ18'},\n",
       " {'url': 'https://www.amazon.com/Western-Digital-Elements-Portable-External/dp/B06W55K9N6/ref=sr_1_8?dchild=1&fst=as%3Aoff&qid=1589819517&rnid=16225007011&s=computers-intl-ship&sr=1-8#customerReviews',\n",
       "  'product_id': 'B06W55K9N6'},\n",
       " {'url': 'https://www.amazon.com/AMD-Ryzen-3900X-24-Thread-Processor/dp/B07SXMZLP9/ref=sr_1_4?dchild=1&fst=as%3Aoff&qid=1589819517&rnid=16225007011&s=computers-intl-ship&sr=1-4',\n",
       "  'product_id': 'B07SXMZLP9'},\n",
       " {'url': 'https://www.amazon.com/Samsung-Inch-Internal-MZ-76Q1T0B-AM/dp/B07L3D19MY/ref=sr_1_9?dchild=1&fst=as%3Aoff&qid=1589819517&rnid=16225007011&s=computers-intl-ship&sr=1-9#customerReviews',\n",
       "  'product_id': 'B07L3D19MY'},\n",
       " {'url': 'https://www.amazon.com/Corsair-CMW32GX4M2C3200C16-Vengeance-PC4-25600-Desktop/dp/B07GTG2T7L/ref=sr_1_15?dchild=1&fst=as%3Aoff&qid=1589819517&rnid=16225007011&s=computers-intl-ship&sr=1-15#customerReviews',\n",
       "  'product_id': 'B07GTG2T7L'},\n",
       " {'url': 'https://www.amazon.com/Passport-Portable-External-Drive-Black/dp/B07VTFN6HM/ref=sr_1_12?dchild=1&fst=as%3Aoff&qid=1589819517&rnid=16225007011&s=computers-intl-ship&sr=1-12',\n",
       "  'product_id': 'B07VTFN6HM'},\n",
       " {'url': 'https://www.amazon.com/Blue-NAND-1TB-SSD-WDS100T2B0A/dp/B073SBQMCX/ref=sr_1_13?dchild=1&fst=as%3Aoff&qid=1589819517&rnid=16225007011&s=computers-intl-ship&sr=1-13',\n",
       "  'product_id': 'B073SBQMCX'},\n",
       " {'url': 'https://www.amazon.com/Passport-Portable-External-Drive-4-Pack/dp/B088P89PYW/ref=sr_1_12?fst=as%3Aoff&qid=1589819517&rnid=16225007011&s=computers-intl-ship&sr=1-12',\n",
       "  'product_id': 'B088P89PYW'},\n",
       " {'url': 'https://www.amazon.com/Corsair-Vengeance-3200MHz-Desktop-Memory/dp/B0143UM4TC/ref=sr_1_10?dchild=1&fst=as%3Aoff&qid=1589819517&rnid=16225007011&s=computers-intl-ship&sr=1-10#customerReviews',\n",
       "  'product_id': 'B0143UM4TC'},\n",
       " {'url': 'https://www.amazon.com/Thermaltake-Certified-Continuous-cooling-PS-SPD-0500NPCWUS-W/dp/B014W3EM2W/ref=sr_1_14?dchild=1&fst=as%3Aoff&qid=1589819517&rnid=16225007011&s=computers-intl-ship&sr=1-14',\n",
       "  'product_id': 'B014W3EM2W'},\n",
       " {'url': 'https://www.amazon.com/Corsair-Vengeance-2x4GB-2400MHz-Memory/dp/B019HVO7II/ref=sr_1_10?fst=as%3Aoff&qid=1589819517&rnid=16225007011&s=computers-intl-ship&sr=1-10',\n",
       "  'product_id': 'B019HVO7II'},\n",
       " {'url': 'https://www.amazon.com/Corsair-Vengeance-2400MHz-Memory-Systems/dp/B00UVN2C2A/ref=sr_1_10?fst=as%3Aoff&qid=1589819517&rnid=16225007011&s=computers-intl-ship&sr=1-10',\n",
       "  'product_id': 'B00UVN2C2A'},\n",
       " {'url': 'https://www.amazon.com/Passport-Portable-External-Drive-3-Pack/dp/B088P7LT41/ref=sr_1_12?fst=as%3Aoff&qid=1589819517&rnid=16225007011&s=computers-intl-ship&sr=1-12',\n",
       "  'product_id': 'B088P7LT41'},\n",
       " {'url': 'https://www.amazon.com/Corsair-Vengeance-DDR4-Memory-PC4-19200/dp/B00UVN2BO4/ref=sr_1_10?fst=as%3Aoff&qid=1589819517&rnid=16225007011&s=computers-intl-ship&sr=1-10',\n",
       "  'product_id': 'B00UVN2BO4'},\n",
       " {'url': 'https://www.amazon.com/Western-Digital-Elements-Portable-External/dp/B06W55K9N6/ref=sr_1_8?dchild=1&fst=as%3Aoff&qid=1589819517&rnid=16225007011&s=computers-intl-ship&sr=1-8',\n",
       "  'product_id': 'B06W55K9N6'},\n",
       " {'url': 'https://www.amazon.com/AMD-Ryzen-3600X-12-Thread-Processor/dp/B07SQBFN2D/ref=sr_1_7?dchild=1&fst=as%3Aoff&qid=1589819517&rnid=16225007011&s=computers-intl-ship&sr=1-7',\n",
       "  'product_id': 'B07SQBFN2D'},\n",
       " {'url': 'https://www.amazon.com/Corsair-Vengeance-3200MHz-Desktop-Memory/dp/B0143UM4TC/ref=sr_1_10?dchild=1&fst=as%3Aoff&qid=1589819517&rnid=16225007011&s=computers-intl-ship&sr=1-10',\n",
       "  'product_id': 'B0143UM4TC'},\n",
       " {'url': 'https://www.amazon.com/Ryzen-3700X-Procesador-escritorio-desbloqueado/dp/B07SXMZLPK/ref=sr_1_2?dchild=1&fst=as%3Aoff&qid=1589819517&rnid=16225007011&s=computers-intl-ship&sr=1-2',\n",
       "  'product_id': 'B07SXMZLPK'},\n",
       " {'url': 'https://www.amazon.com/Samsung-Inch-Internal-MZ-76Q1T0B-AM/dp/B07L3D19MY/ref=sr_1_9?dchild=1&fst=as%3Aoff&qid=1589819517&rnid=16225007011&s=computers-intl-ship&sr=1-9',\n",
       "  'product_id': 'B07L3D19MY'},\n",
       " {'url': 'https://www.amazon.com/AMD-Ryzen-3900X-24-Thread-Processor/dp/B07SXMZLP9/ref=sr_1_4?dchild=1&fst=as%3Aoff&qid=1589819517&rnid=16225007011&s=computers-intl-ship&sr=1-4#customerReviews',\n",
       "  'product_id': 'B07SXMZLP9'},\n",
       " {'url': 'https://www.amazon.com/AMD-Ryzen-3600-12-Thread-Processor/dp/B07STGGQ18/ref=sr_1_3?dchild=1&fst=as%3Aoff&qid=1589819517&rnid=16225007011&s=computers-intl-ship&sr=1-3#customerReviews',\n",
       "  'product_id': 'B07STGGQ18'},\n",
       " {'url': 'https://www.amazon.com/Seagate-Portable-External-Hard-Drive/dp/B07CRG94G3/ref=sr_1_1?dchild=1&fst=as%3Aoff&qid=1589819517&rnid=16225007011&s=computers-intl-ship&sr=1-1',\n",
       "  'product_id': 'B07CRG94G3'},\n",
       " {'url': 'https://www.amazon.com/Corsair-CMW32GX4M2C3200C16-Vengeance-PC4-25600-Desktop/dp/B07GTG2T7L/ref=sr_1_15?dchild=1&fst=as%3Aoff&qid=1589819517&rnid=16225007011&s=computers-intl-ship&sr=1-15',\n",
       "  'product_id': 'B07GTG2T7L'},\n",
       " {'url': 'https://www.amazon.com/Samsung-970-EVO-1TB-MZ-V7E1T0BW/dp/B07BN217QG/ref=sr_1_5?dchild=1&fst=as%3Aoff&qid=1589819517&rnid=16225007011&s=computers-intl-ship&sr=1-5',\n",
       "  'product_id': 'B07BN217QG'},\n",
       " {'url': 'https://www.amazon.com/Samsung-Inch-Internal-MZ-76E1T0B-AM/dp/B078DPCY3T/ref=sr_1_6?dchild=1&fst=as%3Aoff&qid=1589819517&rnid=16225007011&s=computers-intl-ship&sr=1-6',\n",
       "  'product_id': 'B078DPCY3T'},\n",
       " {'url': 'https://www.amazon.com/Toshiba-HDTB420XK3AA-Canvio-Portable-External/dp/B079D3D8NR/ref=sr_1_11?dchild=1&fst=as%3Aoff&qid=1589819517&rnid=16225007011&s=computers-intl-ship&sr=1-11#customerReviews',\n",
       "  'product_id': 'B079D3D8NR'},\n",
       " {'url': 'https://www.amazon.com/Blue-NAND-1TB-SSD-WDS100T2B0A/dp/B073SBQMCX/ref=sr_1_13?dchild=1&fst=as%3Aoff&qid=1589819517&rnid=16225007011&s=computers-intl-ship&sr=1-13#customerReviews',\n",
       "  'product_id': 'B073SBQMCX'},\n",
       " {'url': 'https://www.amazon.com/Seagate-Portable-External-Hard-Drive/dp/B07CRG94G3/ref=sr_1_1?dchild=1&fst=as%3Aoff&qid=1589819517&rnid=16225007011&s=computers-intl-ship&sr=1-1#customerReviews',\n",
       "  'product_id': 'B07CRG94G3'},\n",
       " {'url': 'https://www.amazon.com/AMD-Ryzen-3600X-12-Thread-Processor/dp/B07SQBFN2D/ref=sr_1_7?dchild=1&fst=as%3Aoff&qid=1589819517&rnid=16225007011&s=computers-intl-ship&sr=1-7#customerReviews',\n",
       "  'product_id': 'B07SQBFN2D'},\n",
       " {'url': 'https://www.amazon.com/Blue-NAND-500GB-SSD-WDS500G2B0A/dp/B073SBZ8YH/ref=sr_1_16?dchild=1&fst=as%3Aoff&qid=1589819517&rnid=16225007011&s=computers-intl-ship&sr=1-16',\n",
       "  'product_id': 'B073SBZ8YH'},\n",
       " {'url': 'https://www.amazon.com/Ryzen-3700X-Procesador-escritorio-desbloqueado/dp/B07SXMZLPK/ref=sr_1_2?dchild=1&fst=as%3Aoff&qid=1589819517&rnid=16225007011&s=computers-intl-ship&sr=1-2#customerReviews',\n",
       "  'product_id': 'B07SXMZLPK'}]"
      ]
     },
     "execution_count": 28,
     "metadata": {},
     "output_type": "execute_result"
    }
   ],
   "source": [
    "cleaned_links"
   ]
  },
  {
   "cell_type": "code",
   "execution_count": 29,
   "metadata": {},
   "outputs": [],
   "source": [
    "def perform_scrape(cleaned_items =[]):\n",
    "    extracted_data = []\n",
    "    for obj in cleaned_items:\n",
    "        link = obj['url']\n",
    "        product_id = obj['product_id']\n",
    "        title, price = (None, None)\n",
    "        try:\n",
    "            title, price = scrape_product_page(link)\n",
    "        except:\n",
    "            pass\n",
    "        if title != None and price !=None:\n",
    "            print (link, title, price)\n",
    "        product_data ={\n",
    "            'url' : link,\n",
    "            'product_id':product_id,\n",
    "            'title':title,\n",
    "            'price':price\n",
    "        }\n",
    "        extracted_data.append(product_data)\n",
    "    \n",
    "    return extracted_data"
   ]
  },
  {
   "cell_type": "code",
   "execution_count": 30,
   "metadata": {},
   "outputs": [
    {
     "name": "stdout",
     "output_type": "stream",
     "text": [
      "https://www.amazon.com/Blue-NAND-500GB-SSD-WDS500G2B0A/dp/B073SBZ8YH/ref=sr_1_16?dchild=1&fst=as%3Aoff&qid=1589819517&rnid=16225007011&s=computers-intl-ship&sr=1-16#customerReviews WD Blue 3D NAND 500GB Internal PC SSD - SATA III 6 Gb/s, 2.5\"/7mm, Up to 560 MB/s - WDS500G2B0A $64.99\n",
      "https://www.amazon.com/Thermaltake-Certified-Continuous-cooling-PS-SPD-0500NPCWUS-W/dp/B014W3EM2W/ref=sr_1_14?dchild=1&fst=as%3Aoff&qid=1589819517&rnid=16225007011&s=computers-intl-ship&sr=1-14#customerReviews Thermaltake Smart 500W 80+ White Certified PSU, Continuous Power with 120mm Ultra Quiet Cooling Fan, ATX 12V V2.3/EPS 12V Active PFC Power Supply PS-SPD-0500NPCWUS-W $52.99\n",
      "https://www.amazon.com/Passport-Portable-External-Drive-Black/dp/B07VTFN6HM/ref=sr_1_12?dchild=1&fst=as%3Aoff&qid=1589819517&rnid=16225007011&s=computers-intl-ship&sr=1-12#customerReviews WD 2TB My Passport Portable External Hard Drive, Black - WDBYVG0020BBK-WESN $59.99\n",
      "https://www.amazon.com/Samsung-970-EVO-1TB-MZ-V7E1T0BW/dp/B07BN217QG/ref=sr_1_5?dchild=1&fst=as%3Aoff&qid=1589819517&rnid=16225007011&s=computers-intl-ship&sr=1-5#customerReviews Samsung (MZ-V7E1T0BW) 970 EVO SSD 1TB - M.2 NVMe Interface Internal Solid State Drive with V-NAND Technology, Black/Red $179.99\n",
      "https://www.amazon.com/Samsung-Inch-Internal-MZ-76E1T0B-AM/dp/B078DPCY3T/ref=sr_1_6?dchild=1&fst=as%3Aoff&qid=1589819517&rnid=16225007011&s=computers-intl-ship&sr=1-6#customerReviews Samsung SSD 860 EVO 1TB 2.5 Inch SATA III Internal SSD (MZ-76E1T0B/AM) $149.99\n",
      "https://www.amazon.com/Toshiba-HDTB420XK3AA-Canvio-Portable-External/dp/B079D3D8NR/ref=sr_1_11?dchild=1&fst=as%3Aoff&qid=1589819517&rnid=16225007011&s=computers-intl-ship&sr=1-11 Toshiba (HDTB420XK3AA) Canvio Basics 2TB Portable External Hard Drive USB 3.0, Black $59.99\n",
      "https://www.amazon.com/AMD-Ryzen-3600-12-Thread-Processor/dp/B07STGGQ18/ref=sr_1_3?dchild=1&fst=as%3Aoff&qid=1589819517&rnid=16225007011&s=computers-intl-ship&sr=1-3 AMD Ryzen 5 3600 6-Core, 12-Thread Unlocked Desktop Processor with Wraith Stealth Cooler $189.99\n",
      "https://www.amazon.com/Western-Digital-Elements-Portable-External/dp/B06W55K9N6/ref=sr_1_8?dchild=1&fst=as%3Aoff&qid=1589819517&rnid=16225007011&s=computers-intl-ship&sr=1-8#customerReviews WD 2TB Elements Portable External Hard Drive - USB 3.0 - WDBU6Y0020BBK $64.99\n",
      "https://www.amazon.com/AMD-Ryzen-3900X-24-Thread-Processor/dp/B07SXMZLP9/ref=sr_1_4?dchild=1&fst=as%3Aoff&qid=1589819517&rnid=16225007011&s=computers-intl-ship&sr=1-4 AMD Ryzen 9 3900X 12-core, 24-thread unlocked desktop processor with Wraith Prism LED Cooler $409.99\n",
      "https://www.amazon.com/Samsung-Inch-Internal-MZ-76Q1T0B-AM/dp/B07L3D19MY/ref=sr_1_9?dchild=1&fst=as%3Aoff&qid=1589819517&rnid=16225007011&s=computers-intl-ship&sr=1-9#customerReviews Samsung 860 QVO 1TB Solid State Drive (MZ-76Q1T0) V-NAND, SATA 6Gb/s, Quality and Value Optimized SSD $127.25\n",
      "https://www.amazon.com/Corsair-CMW32GX4M2C3200C16-Vengeance-PC4-25600-Desktop/dp/B07GTG2T7L/ref=sr_1_15?dchild=1&fst=as%3Aoff&qid=1589819517&rnid=16225007011&s=computers-intl-ship&sr=1-15#customerReviews Corsair CMW32GX4M2C3200C16 VENGEANCE RGB PRO 32GB (2x16GB) DDR4 3200 (PC4-25600) C16 Desktop memory Black $174.99\n",
      "https://www.amazon.com/Passport-Portable-External-Drive-Black/dp/B07VTFN6HM/ref=sr_1_12?dchild=1&fst=as%3Aoff&qid=1589819517&rnid=16225007011&s=computers-intl-ship&sr=1-12 WD 2TB My Passport Portable External Hard Drive, Black - WDBYVG0020BBK-WESN $59.99\n",
      "https://www.amazon.com/Blue-NAND-1TB-SSD-WDS100T2B0A/dp/B073SBQMCX/ref=sr_1_13?dchild=1&fst=as%3Aoff&qid=1589819517&rnid=16225007011&s=computers-intl-ship&sr=1-13 WD Blue 3D NAND 1TB Internal PC SSD - SATA III 6 Gb/s, 2.5\"/7mm, Up to 560 MB/s - WDS100T2B0A $109.99\n",
      "https://www.amazon.com/Corsair-Vengeance-3200MHz-Desktop-Memory/dp/B0143UM4TC/ref=sr_1_10?dchild=1&fst=as%3Aoff&qid=1589819517&rnid=16225007011&s=computers-intl-ship&sr=1-10#customerReviews Corsair Vengeance LPX 16GB (2x8GB) DDR4 DRAM 3200MHz C16 Desktop Memory Kit - Black (CMK16GX4M2B3200C16),Vengeance LPX Black $74.99\n",
      "https://www.amazon.com/Thermaltake-Certified-Continuous-cooling-PS-SPD-0500NPCWUS-W/dp/B014W3EM2W/ref=sr_1_14?dchild=1&fst=as%3Aoff&qid=1589819517&rnid=16225007011&s=computers-intl-ship&sr=1-14 Thermaltake Smart 500W 80+ White Certified PSU, Continuous Power with 120mm Ultra Quiet Cooling Fan, ATX 12V V2.3/EPS 12V Active PFC Power Supply PS-SPD-0500NPCWUS-W $52.99\n",
      "https://www.amazon.com/Corsair-Vengeance-2x4GB-2400MHz-Memory/dp/B019HVO7II/ref=sr_1_10?fst=as%3Aoff&qid=1589819517&rnid=16225007011&s=computers-intl-ship&sr=1-10 Corsair Vengeance LPX 8GB (2x4GB) DDR4 DRAM 2400MHz (PC4 19200) C16 Memory Kit - Red $48.99\n",
      "https://www.amazon.com/Corsair-Vengeance-2400MHz-Memory-Systems/dp/B00UVN2C2A/ref=sr_1_10?fst=as%3Aoff&qid=1589819517&rnid=16225007011&s=computers-intl-ship&sr=1-10 Corsair Vengeance LPX 4GB DRAM 2400MHz C14 Memory Kit for DDR4 Systems Red $30.50\n",
      "https://www.amazon.com/Corsair-Vengeance-DDR4-Memory-PC4-19200/dp/B00UVN2BO4/ref=sr_1_10?fst=as%3Aoff&qid=1589819517&rnid=16225007011&s=computers-intl-ship&sr=1-10 Corsair Vengeance LPX 4 GB DDR4 DRAM 2400 MHz C14 Memory Kit PC4-19200 $23.94\n",
      "https://www.amazon.com/Western-Digital-Elements-Portable-External/dp/B06W55K9N6/ref=sr_1_8?dchild=1&fst=as%3Aoff&qid=1589819517&rnid=16225007011&s=computers-intl-ship&sr=1-8 WD 2TB Elements Portable External Hard Drive - USB 3.0 - WDBU6Y0020BBK $64.99\n",
      "https://www.amazon.com/AMD-Ryzen-3600X-12-Thread-Processor/dp/B07SQBFN2D/ref=sr_1_7?dchild=1&fst=as%3Aoff&qid=1589819517&rnid=16225007011&s=computers-intl-ship&sr=1-7 AMD Ryzen 5 3600X 6-Core, 12-Thread Unlocked Desktop Processor with Wraith Spire Cooler $204.99\n",
      "https://www.amazon.com/Corsair-Vengeance-3200MHz-Desktop-Memory/dp/B0143UM4TC/ref=sr_1_10?dchild=1&fst=as%3Aoff&qid=1589819517&rnid=16225007011&s=computers-intl-ship&sr=1-10 Corsair Vengeance LPX 16GB (2x8GB) DDR4 DRAM 3200MHz C16 Desktop Memory Kit - Black (CMK16GX4M2B3200C16),Vengeance LPX Black $74.99\n",
      "https://www.amazon.com/Ryzen-3700X-Procesador-escritorio-desbloqueado/dp/B07SXMZLPK/ref=sr_1_2?dchild=1&fst=as%3Aoff&qid=1589819517&rnid=16225007011&s=computers-intl-ship&sr=1-2 AMD Ryzen 7 3700X 8-Core, 16-Thread Unlocked Desktop Processor with Wraith Prism LED Cooler $289.99\n",
      "https://www.amazon.com/Samsung-Inch-Internal-MZ-76Q1T0B-AM/dp/B07L3D19MY/ref=sr_1_9?dchild=1&fst=as%3Aoff&qid=1589819517&rnid=16225007011&s=computers-intl-ship&sr=1-9 Samsung 860 QVO 1TB Solid State Drive (MZ-76Q1T0) V-NAND, SATA 6Gb/s, Quality and Value Optimized SSD $127.25\n",
      "https://www.amazon.com/AMD-Ryzen-3900X-24-Thread-Processor/dp/B07SXMZLP9/ref=sr_1_4?dchild=1&fst=as%3Aoff&qid=1589819517&rnid=16225007011&s=computers-intl-ship&sr=1-4#customerReviews AMD Ryzen 9 3900X 12-core, 24-thread unlocked desktop processor with Wraith Prism LED Cooler $409.99\n",
      "https://www.amazon.com/AMD-Ryzen-3600-12-Thread-Processor/dp/B07STGGQ18/ref=sr_1_3?dchild=1&fst=as%3Aoff&qid=1589819517&rnid=16225007011&s=computers-intl-ship&sr=1-3#customerReviews AMD Ryzen 5 3600 6-Core, 12-Thread Unlocked Desktop Processor with Wraith Stealth Cooler $189.99\n",
      "https://www.amazon.com/Seagate-Portable-External-Hard-Drive/dp/B07CRG94G3/ref=sr_1_1?dchild=1&fst=as%3Aoff&qid=1589819517&rnid=16225007011&s=computers-intl-ship&sr=1-1 Seagate STGX2000400 Portable 2TB External Hard Drive Portable HDD - USB 3.0 for PC Laptop, Mac, Xbox & PS4 $62.99\n",
      "https://www.amazon.com/Corsair-CMW32GX4M2C3200C16-Vengeance-PC4-25600-Desktop/dp/B07GTG2T7L/ref=sr_1_15?dchild=1&fst=as%3Aoff&qid=1589819517&rnid=16225007011&s=computers-intl-ship&sr=1-15 Corsair CMW32GX4M2C3200C16 VENGEANCE RGB PRO 32GB (2x16GB) DDR4 3200 (PC4-25600) C16 Desktop memory Black $174.99\n",
      "https://www.amazon.com/Samsung-970-EVO-1TB-MZ-V7E1T0BW/dp/B07BN217QG/ref=sr_1_5?dchild=1&fst=as%3Aoff&qid=1589819517&rnid=16225007011&s=computers-intl-ship&sr=1-5 Samsung (MZ-V7E1T0BW) 970 EVO SSD 1TB - M.2 NVMe Interface Internal Solid State Drive with V-NAND Technology, Black/Red $179.99\n",
      "https://www.amazon.com/Samsung-Inch-Internal-MZ-76E1T0B-AM/dp/B078DPCY3T/ref=sr_1_6?dchild=1&fst=as%3Aoff&qid=1589819517&rnid=16225007011&s=computers-intl-ship&sr=1-6 Samsung SSD 860 EVO 1TB 2.5 Inch SATA III Internal SSD (MZ-76E1T0B/AM) $149.99\n"
     ]
    },
    {
     "name": "stdout",
     "output_type": "stream",
     "text": [
      "https://www.amazon.com/Toshiba-HDTB420XK3AA-Canvio-Portable-External/dp/B079D3D8NR/ref=sr_1_11?dchild=1&fst=as%3Aoff&qid=1589819517&rnid=16225007011&s=computers-intl-ship&sr=1-11#customerReviews Toshiba (HDTB420XK3AA) Canvio Basics 2TB Portable External Hard Drive USB 3.0, Black $59.99\n",
      "https://www.amazon.com/Blue-NAND-1TB-SSD-WDS100T2B0A/dp/B073SBQMCX/ref=sr_1_13?dchild=1&fst=as%3Aoff&qid=1589819517&rnid=16225007011&s=computers-intl-ship&sr=1-13#customerReviews WD Blue 3D NAND 1TB Internal PC SSD - SATA III 6 Gb/s, 2.5\"/7mm, Up to 560 MB/s - WDS100T2B0A $109.99\n",
      "https://www.amazon.com/Seagate-Portable-External-Hard-Drive/dp/B07CRG94G3/ref=sr_1_1?dchild=1&fst=as%3Aoff&qid=1589819517&rnid=16225007011&s=computers-intl-ship&sr=1-1#customerReviews Seagate STGX2000400 Portable 2TB External Hard Drive Portable HDD - USB 3.0 for PC Laptop, Mac, Xbox & PS4 $62.99\n",
      "https://www.amazon.com/AMD-Ryzen-3600X-12-Thread-Processor/dp/B07SQBFN2D/ref=sr_1_7?dchild=1&fst=as%3Aoff&qid=1589819517&rnid=16225007011&s=computers-intl-ship&sr=1-7#customerReviews AMD Ryzen 5 3600X 6-Core, 12-Thread Unlocked Desktop Processor with Wraith Spire Cooler $204.99\n",
      "https://www.amazon.com/Blue-NAND-500GB-SSD-WDS500G2B0A/dp/B073SBZ8YH/ref=sr_1_16?dchild=1&fst=as%3Aoff&qid=1589819517&rnid=16225007011&s=computers-intl-ship&sr=1-16 WD Blue 3D NAND 500GB Internal PC SSD - SATA III 6 Gb/s, 2.5\"/7mm, Up to 560 MB/s - WDS500G2B0A $64.99\n",
      "https://www.amazon.com/Ryzen-3700X-Procesador-escritorio-desbloqueado/dp/B07SXMZLPK/ref=sr_1_2?dchild=1&fst=as%3Aoff&qid=1589819517&rnid=16225007011&s=computers-intl-ship&sr=1-2#customerReviews AMD Ryzen 7 3700X 8-Core, 16-Thread Unlocked Desktop Processor with Wraith Prism LED Cooler $289.99\n"
     ]
    }
   ],
   "source": [
    "extracted_data = perform_scrape(cleaned_items = cleaned_links)"
   ]
  },
  {
   "cell_type": "code",
   "execution_count": 31,
   "metadata": {},
   "outputs": [
    {
     "data": {
      "text/plain": [
       "[{'url': 'https://www.amazon.com/Blue-NAND-500GB-SSD-WDS500G2B0A/dp/B073SBZ8YH/ref=sr_1_16?dchild=1&fst=as%3Aoff&qid=1589819517&rnid=16225007011&s=computers-intl-ship&sr=1-16#customerReviews',\n",
       "  'product_id': 'B073SBZ8YH',\n",
       "  'title': 'WD Blue 3D NAND 500GB Internal PC SSD - SATA III 6 Gb/s, 2.5\"/7mm, Up to 560 MB/s - WDS500G2B0A',\n",
       "  'price': '$64.99'},\n",
       " {'url': 'https://www.amazon.com/Thermaltake-Certified-Continuous-cooling-PS-SPD-0500NPCWUS-W/dp/B014W3EM2W/ref=sr_1_14?dchild=1&fst=as%3Aoff&qid=1589819517&rnid=16225007011&s=computers-intl-ship&sr=1-14#customerReviews',\n",
       "  'product_id': 'B014W3EM2W',\n",
       "  'title': 'Thermaltake Smart 500W 80+ White Certified PSU, Continuous Power with 120mm Ultra Quiet Cooling Fan, ATX 12V V2.3/EPS 12V Active PFC Power Supply PS-SPD-0500NPCWUS-W',\n",
       "  'price': '$52.99'},\n",
       " {'url': 'https://www.amazon.com/Passport-Portable-External-Drive-Black/dp/B07VTFN6HM/ref=sr_1_12?dchild=1&fst=as%3Aoff&qid=1589819517&rnid=16225007011&s=computers-intl-ship&sr=1-12#customerReviews',\n",
       "  'product_id': 'B07VTFN6HM',\n",
       "  'title': 'WD 2TB My Passport Portable External Hard Drive, Black - WDBYVG0020BBK-WESN',\n",
       "  'price': '$59.99'},\n",
       " {'url': 'https://www.amazon.com/Samsung-970-EVO-1TB-MZ-V7E1T0BW/dp/B07BN217QG/ref=sr_1_5?dchild=1&fst=as%3Aoff&qid=1589819517&rnid=16225007011&s=computers-intl-ship&sr=1-5#customerReviews',\n",
       "  'product_id': 'B07BN217QG',\n",
       "  'title': 'Samsung (MZ-V7E1T0BW) 970 EVO SSD 1TB - M.2 NVMe Interface Internal Solid State Drive with V-NAND Technology, Black/Red',\n",
       "  'price': '$179.99'},\n",
       " {'url': 'https://www.amazon.com/Samsung-Inch-Internal-MZ-76E1T0B-AM/dp/B078DPCY3T/ref=sr_1_6?dchild=1&fst=as%3Aoff&qid=1589819517&rnid=16225007011&s=computers-intl-ship&sr=1-6#customerReviews',\n",
       "  'product_id': 'B078DPCY3T',\n",
       "  'title': 'Samsung SSD 860 EVO 1TB 2.5 Inch SATA III Internal SSD (MZ-76E1T0B/AM)',\n",
       "  'price': '$149.99'},\n",
       " {'url': 'https://www.amazon.com/Passport-Portable-External-Drive-2-Pack/dp/B088P91Y3B/ref=sr_1_12?fst=as%3Aoff&qid=1589819517&rnid=16225007011&s=computers-intl-ship&sr=1-12',\n",
       "  'product_id': 'B088P91Y3B',\n",
       "  'title': None,\n",
       "  'price': None},\n",
       " {'url': 'https://www.amazon.com/Toshiba-HDTB420XK3AA-Canvio-Portable-External/dp/B079D3D8NR/ref=sr_1_11?dchild=1&fst=as%3Aoff&qid=1589819517&rnid=16225007011&s=computers-intl-ship&sr=1-11',\n",
       "  'product_id': 'B079D3D8NR',\n",
       "  'title': 'Toshiba (HDTB420XK3AA) Canvio Basics 2TB Portable External Hard Drive USB 3.0, Black',\n",
       "  'price': '$59.99'},\n",
       " {'url': 'https://www.amazon.com/AMD-Ryzen-3600-12-Thread-Processor/dp/B07STGGQ18/ref=sr_1_3?dchild=1&fst=as%3Aoff&qid=1589819517&rnid=16225007011&s=computers-intl-ship&sr=1-3',\n",
       "  'product_id': 'B07STGGQ18',\n",
       "  'title': 'AMD Ryzen 5 3600 6-Core, 12-Thread Unlocked Desktop Processor with Wraith Stealth Cooler',\n",
       "  'price': '$189.99'},\n",
       " {'url': 'https://www.amazon.com/Western-Digital-Elements-Portable-External/dp/B06W55K9N6/ref=sr_1_8?dchild=1&fst=as%3Aoff&qid=1589819517&rnid=16225007011&s=computers-intl-ship&sr=1-8#customerReviews',\n",
       "  'product_id': 'B06W55K9N6',\n",
       "  'title': 'WD 2TB Elements Portable External Hard Drive - USB 3.0 - WDBU6Y0020BBK',\n",
       "  'price': '$64.99'},\n",
       " {'url': 'https://www.amazon.com/AMD-Ryzen-3900X-24-Thread-Processor/dp/B07SXMZLP9/ref=sr_1_4?dchild=1&fst=as%3Aoff&qid=1589819517&rnid=16225007011&s=computers-intl-ship&sr=1-4',\n",
       "  'product_id': 'B07SXMZLP9',\n",
       "  'title': 'AMD Ryzen 9 3900X 12-core, 24-thread unlocked desktop processor with Wraith Prism LED Cooler',\n",
       "  'price': '$409.99'},\n",
       " {'url': 'https://www.amazon.com/Samsung-Inch-Internal-MZ-76Q1T0B-AM/dp/B07L3D19MY/ref=sr_1_9?dchild=1&fst=as%3Aoff&qid=1589819517&rnid=16225007011&s=computers-intl-ship&sr=1-9#customerReviews',\n",
       "  'product_id': 'B07L3D19MY',\n",
       "  'title': 'Samsung 860 QVO 1TB Solid State Drive (MZ-76Q1T0) V-NAND, SATA 6Gb/s, Quality and Value Optimized SSD',\n",
       "  'price': '$127.25'},\n",
       " {'url': 'https://www.amazon.com/Corsair-CMW32GX4M2C3200C16-Vengeance-PC4-25600-Desktop/dp/B07GTG2T7L/ref=sr_1_15?dchild=1&fst=as%3Aoff&qid=1589819517&rnid=16225007011&s=computers-intl-ship&sr=1-15#customerReviews',\n",
       "  'product_id': 'B07GTG2T7L',\n",
       "  'title': 'Corsair CMW32GX4M2C3200C16 VENGEANCE RGB PRO 32GB (2x16GB) DDR4 3200 (PC4-25600) C16 Desktop memory Black',\n",
       "  'price': '$174.99'},\n",
       " {'url': 'https://www.amazon.com/Passport-Portable-External-Drive-Black/dp/B07VTFN6HM/ref=sr_1_12?dchild=1&fst=as%3Aoff&qid=1589819517&rnid=16225007011&s=computers-intl-ship&sr=1-12',\n",
       "  'product_id': 'B07VTFN6HM',\n",
       "  'title': 'WD 2TB My Passport Portable External Hard Drive, Black - WDBYVG0020BBK-WESN',\n",
       "  'price': '$59.99'},\n",
       " {'url': 'https://www.amazon.com/Blue-NAND-1TB-SSD-WDS100T2B0A/dp/B073SBQMCX/ref=sr_1_13?dchild=1&fst=as%3Aoff&qid=1589819517&rnid=16225007011&s=computers-intl-ship&sr=1-13',\n",
       "  'product_id': 'B073SBQMCX',\n",
       "  'title': 'WD Blue 3D NAND 1TB Internal PC SSD - SATA III 6 Gb/s, 2.5\"/7mm, Up to 560 MB/s - WDS100T2B0A',\n",
       "  'price': '$109.99'},\n",
       " {'url': 'https://www.amazon.com/Passport-Portable-External-Drive-4-Pack/dp/B088P89PYW/ref=sr_1_12?fst=as%3Aoff&qid=1589819517&rnid=16225007011&s=computers-intl-ship&sr=1-12',\n",
       "  'product_id': 'B088P89PYW',\n",
       "  'title': None,\n",
       "  'price': None},\n",
       " {'url': 'https://www.amazon.com/Corsair-Vengeance-3200MHz-Desktop-Memory/dp/B0143UM4TC/ref=sr_1_10?dchild=1&fst=as%3Aoff&qid=1589819517&rnid=16225007011&s=computers-intl-ship&sr=1-10#customerReviews',\n",
       "  'product_id': 'B0143UM4TC',\n",
       "  'title': 'Corsair Vengeance LPX 16GB (2x8GB) DDR4 DRAM 3200MHz C16 Desktop Memory Kit - Black (CMK16GX4M2B3200C16),Vengeance LPX Black',\n",
       "  'price': '$74.99'},\n",
       " {'url': 'https://www.amazon.com/Thermaltake-Certified-Continuous-cooling-PS-SPD-0500NPCWUS-W/dp/B014W3EM2W/ref=sr_1_14?dchild=1&fst=as%3Aoff&qid=1589819517&rnid=16225007011&s=computers-intl-ship&sr=1-14',\n",
       "  'product_id': 'B014W3EM2W',\n",
       "  'title': 'Thermaltake Smart 500W 80+ White Certified PSU, Continuous Power with 120mm Ultra Quiet Cooling Fan, ATX 12V V2.3/EPS 12V Active PFC Power Supply PS-SPD-0500NPCWUS-W',\n",
       "  'price': '$52.99'},\n",
       " {'url': 'https://www.amazon.com/Corsair-Vengeance-2x4GB-2400MHz-Memory/dp/B019HVO7II/ref=sr_1_10?fst=as%3Aoff&qid=1589819517&rnid=16225007011&s=computers-intl-ship&sr=1-10',\n",
       "  'product_id': 'B019HVO7II',\n",
       "  'title': 'Corsair Vengeance LPX 8GB (2x4GB) DDR4 DRAM 2400MHz (PC4 19200) C16 Memory Kit - Red',\n",
       "  'price': '$48.99'},\n",
       " {'url': 'https://www.amazon.com/Corsair-Vengeance-2400MHz-Memory-Systems/dp/B00UVN2C2A/ref=sr_1_10?fst=as%3Aoff&qid=1589819517&rnid=16225007011&s=computers-intl-ship&sr=1-10',\n",
       "  'product_id': 'B00UVN2C2A',\n",
       "  'title': 'Corsair Vengeance LPX 4GB DRAM 2400MHz C14 Memory Kit for DDR4 Systems Red',\n",
       "  'price': '$30.50'},\n",
       " {'url': 'https://www.amazon.com/Passport-Portable-External-Drive-3-Pack/dp/B088P7LT41/ref=sr_1_12?fst=as%3Aoff&qid=1589819517&rnid=16225007011&s=computers-intl-ship&sr=1-12',\n",
       "  'product_id': 'B088P7LT41',\n",
       "  'title': None,\n",
       "  'price': None},\n",
       " {'url': 'https://www.amazon.com/Corsair-Vengeance-DDR4-Memory-PC4-19200/dp/B00UVN2BO4/ref=sr_1_10?fst=as%3Aoff&qid=1589819517&rnid=16225007011&s=computers-intl-ship&sr=1-10',\n",
       "  'product_id': 'B00UVN2BO4',\n",
       "  'title': 'Corsair Vengeance LPX 4 GB DDR4 DRAM 2400 MHz C14 Memory Kit PC4-19200',\n",
       "  'price': '$23.94'},\n",
       " {'url': 'https://www.amazon.com/Western-Digital-Elements-Portable-External/dp/B06W55K9N6/ref=sr_1_8?dchild=1&fst=as%3Aoff&qid=1589819517&rnid=16225007011&s=computers-intl-ship&sr=1-8',\n",
       "  'product_id': 'B06W55K9N6',\n",
       "  'title': 'WD 2TB Elements Portable External Hard Drive - USB 3.0 - WDBU6Y0020BBK',\n",
       "  'price': '$64.99'},\n",
       " {'url': 'https://www.amazon.com/AMD-Ryzen-3600X-12-Thread-Processor/dp/B07SQBFN2D/ref=sr_1_7?dchild=1&fst=as%3Aoff&qid=1589819517&rnid=16225007011&s=computers-intl-ship&sr=1-7',\n",
       "  'product_id': 'B07SQBFN2D',\n",
       "  'title': 'AMD Ryzen 5 3600X 6-Core, 12-Thread Unlocked Desktop Processor with Wraith Spire Cooler',\n",
       "  'price': '$204.99'},\n",
       " {'url': 'https://www.amazon.com/Corsair-Vengeance-3200MHz-Desktop-Memory/dp/B0143UM4TC/ref=sr_1_10?dchild=1&fst=as%3Aoff&qid=1589819517&rnid=16225007011&s=computers-intl-ship&sr=1-10',\n",
       "  'product_id': 'B0143UM4TC',\n",
       "  'title': 'Corsair Vengeance LPX 16GB (2x8GB) DDR4 DRAM 3200MHz C16 Desktop Memory Kit - Black (CMK16GX4M2B3200C16),Vengeance LPX Black',\n",
       "  'price': '$74.99'},\n",
       " {'url': 'https://www.amazon.com/Ryzen-3700X-Procesador-escritorio-desbloqueado/dp/B07SXMZLPK/ref=sr_1_2?dchild=1&fst=as%3Aoff&qid=1589819517&rnid=16225007011&s=computers-intl-ship&sr=1-2',\n",
       "  'product_id': 'B07SXMZLPK',\n",
       "  'title': 'AMD Ryzen 7 3700X 8-Core, 16-Thread Unlocked Desktop Processor with Wraith Prism LED Cooler',\n",
       "  'price': '$289.99'},\n",
       " {'url': 'https://www.amazon.com/Samsung-Inch-Internal-MZ-76Q1T0B-AM/dp/B07L3D19MY/ref=sr_1_9?dchild=1&fst=as%3Aoff&qid=1589819517&rnid=16225007011&s=computers-intl-ship&sr=1-9',\n",
       "  'product_id': 'B07L3D19MY',\n",
       "  'title': 'Samsung 860 QVO 1TB Solid State Drive (MZ-76Q1T0) V-NAND, SATA 6Gb/s, Quality and Value Optimized SSD',\n",
       "  'price': '$127.25'},\n",
       " {'url': 'https://www.amazon.com/AMD-Ryzen-3900X-24-Thread-Processor/dp/B07SXMZLP9/ref=sr_1_4?dchild=1&fst=as%3Aoff&qid=1589819517&rnid=16225007011&s=computers-intl-ship&sr=1-4#customerReviews',\n",
       "  'product_id': 'B07SXMZLP9',\n",
       "  'title': 'AMD Ryzen 9 3900X 12-core, 24-thread unlocked desktop processor with Wraith Prism LED Cooler',\n",
       "  'price': '$409.99'},\n",
       " {'url': 'https://www.amazon.com/AMD-Ryzen-3600-12-Thread-Processor/dp/B07STGGQ18/ref=sr_1_3?dchild=1&fst=as%3Aoff&qid=1589819517&rnid=16225007011&s=computers-intl-ship&sr=1-3#customerReviews',\n",
       "  'product_id': 'B07STGGQ18',\n",
       "  'title': 'AMD Ryzen 5 3600 6-Core, 12-Thread Unlocked Desktop Processor with Wraith Stealth Cooler',\n",
       "  'price': '$189.99'},\n",
       " {'url': 'https://www.amazon.com/Seagate-Portable-External-Hard-Drive/dp/B07CRG94G3/ref=sr_1_1?dchild=1&fst=as%3Aoff&qid=1589819517&rnid=16225007011&s=computers-intl-ship&sr=1-1',\n",
       "  'product_id': 'B07CRG94G3',\n",
       "  'title': 'Seagate STGX2000400 Portable 2TB External Hard Drive Portable HDD - USB 3.0 for PC Laptop, Mac, Xbox & PS4',\n",
       "  'price': '$62.99'},\n",
       " {'url': 'https://www.amazon.com/Corsair-CMW32GX4M2C3200C16-Vengeance-PC4-25600-Desktop/dp/B07GTG2T7L/ref=sr_1_15?dchild=1&fst=as%3Aoff&qid=1589819517&rnid=16225007011&s=computers-intl-ship&sr=1-15',\n",
       "  'product_id': 'B07GTG2T7L',\n",
       "  'title': 'Corsair CMW32GX4M2C3200C16 VENGEANCE RGB PRO 32GB (2x16GB) DDR4 3200 (PC4-25600) C16 Desktop memory Black',\n",
       "  'price': '$174.99'},\n",
       " {'url': 'https://www.amazon.com/Samsung-970-EVO-1TB-MZ-V7E1T0BW/dp/B07BN217QG/ref=sr_1_5?dchild=1&fst=as%3Aoff&qid=1589819517&rnid=16225007011&s=computers-intl-ship&sr=1-5',\n",
       "  'product_id': 'B07BN217QG',\n",
       "  'title': 'Samsung (MZ-V7E1T0BW) 970 EVO SSD 1TB - M.2 NVMe Interface Internal Solid State Drive with V-NAND Technology, Black/Red',\n",
       "  'price': '$179.99'},\n",
       " {'url': 'https://www.amazon.com/Samsung-Inch-Internal-MZ-76E1T0B-AM/dp/B078DPCY3T/ref=sr_1_6?dchild=1&fst=as%3Aoff&qid=1589819517&rnid=16225007011&s=computers-intl-ship&sr=1-6',\n",
       "  'product_id': 'B078DPCY3T',\n",
       "  'title': 'Samsung SSD 860 EVO 1TB 2.5 Inch SATA III Internal SSD (MZ-76E1T0B/AM)',\n",
       "  'price': '$149.99'},\n",
       " {'url': 'https://www.amazon.com/Toshiba-HDTB420XK3AA-Canvio-Portable-External/dp/B079D3D8NR/ref=sr_1_11?dchild=1&fst=as%3Aoff&qid=1589819517&rnid=16225007011&s=computers-intl-ship&sr=1-11#customerReviews',\n",
       "  'product_id': 'B079D3D8NR',\n",
       "  'title': 'Toshiba (HDTB420XK3AA) Canvio Basics 2TB Portable External Hard Drive USB 3.0, Black',\n",
       "  'price': '$59.99'},\n",
       " {'url': 'https://www.amazon.com/Blue-NAND-1TB-SSD-WDS100T2B0A/dp/B073SBQMCX/ref=sr_1_13?dchild=1&fst=as%3Aoff&qid=1589819517&rnid=16225007011&s=computers-intl-ship&sr=1-13#customerReviews',\n",
       "  'product_id': 'B073SBQMCX',\n",
       "  'title': 'WD Blue 3D NAND 1TB Internal PC SSD - SATA III 6 Gb/s, 2.5\"/7mm, Up to 560 MB/s - WDS100T2B0A',\n",
       "  'price': '$109.99'},\n",
       " {'url': 'https://www.amazon.com/Seagate-Portable-External-Hard-Drive/dp/B07CRG94G3/ref=sr_1_1?dchild=1&fst=as%3Aoff&qid=1589819517&rnid=16225007011&s=computers-intl-ship&sr=1-1#customerReviews',\n",
       "  'product_id': 'B07CRG94G3',\n",
       "  'title': 'Seagate STGX2000400 Portable 2TB External Hard Drive Portable HDD - USB 3.0 for PC Laptop, Mac, Xbox & PS4',\n",
       "  'price': '$62.99'},\n",
       " {'url': 'https://www.amazon.com/AMD-Ryzen-3600X-12-Thread-Processor/dp/B07SQBFN2D/ref=sr_1_7?dchild=1&fst=as%3Aoff&qid=1589819517&rnid=16225007011&s=computers-intl-ship&sr=1-7#customerReviews',\n",
       "  'product_id': 'B07SQBFN2D',\n",
       "  'title': 'AMD Ryzen 5 3600X 6-Core, 12-Thread Unlocked Desktop Processor with Wraith Spire Cooler',\n",
       "  'price': '$204.99'},\n",
       " {'url': 'https://www.amazon.com/Blue-NAND-500GB-SSD-WDS500G2B0A/dp/B073SBZ8YH/ref=sr_1_16?dchild=1&fst=as%3Aoff&qid=1589819517&rnid=16225007011&s=computers-intl-ship&sr=1-16',\n",
       "  'product_id': 'B073SBZ8YH',\n",
       "  'title': 'WD Blue 3D NAND 500GB Internal PC SSD - SATA III 6 Gb/s, 2.5\"/7mm, Up to 560 MB/s - WDS500G2B0A',\n",
       "  'price': '$64.99'},\n",
       " {'url': 'https://www.amazon.com/Ryzen-3700X-Procesador-escritorio-desbloqueado/dp/B07SXMZLPK/ref=sr_1_2?dchild=1&fst=as%3Aoff&qid=1589819517&rnid=16225007011&s=computers-intl-ship&sr=1-2#customerReviews',\n",
       "  'product_id': 'B07SXMZLPK',\n",
       "  'title': 'AMD Ryzen 7 3700X 8-Core, 16-Thread Unlocked Desktop Processor with Wraith Prism LED Cooler',\n",
       "  'price': '$289.99'}]"
      ]
     },
     "execution_count": 31,
     "metadata": {},
     "output_type": "execute_result"
    }
   ],
   "source": [
    "extracted_data"
   ]
  },
  {
   "cell_type": "code",
   "execution_count": null,
   "metadata": {},
   "outputs": [],
   "source": []
  }
 ],
 "metadata": {
  "kernelspec": {
   "display_name": "Python 3",
   "language": "python",
   "name": "python3"
  },
  "language_info": {
   "codemirror_mode": {
    "name": "ipython",
    "version": 3
   },
   "file_extension": ".py",
   "mimetype": "text/x-python",
   "name": "python",
   "nbconvert_exporter": "python",
   "pygments_lexer": "ipython3",
   "version": "3.8.1"
  }
 },
 "nbformat": 4,
 "nbformat_minor": 4
}
