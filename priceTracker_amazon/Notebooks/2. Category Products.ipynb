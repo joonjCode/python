{
 "cells": [
  {
   "cell_type": "code",
   "execution_count": 1,
   "metadata": {},
   "outputs": [],
   "source": [
    "import requests\n",
    "import time\n",
    "from requests_html import HTML\n",
    "from selenium import webdriver\n",
    "from selenium.webdriver.chrome.options import Options"
   ]
  },
  {
   "cell_type": "code",
   "execution_count": 2,
   "metadata": {},
   "outputs": [],
   "source": [
    "options = Options()\n",
    "options.add_argument('--headless')\n",
    "\n",
    "driver = webdriver.Chrome(options = options)"
   ]
  },
  {
   "cell_type": "code",
   "execution_count": 3,
   "metadata": {},
   "outputs": [],
   "source": [
    "categories = [\n",
    "    'https://www.amazon.com/s?bbn=16225007011&rh=n%3A16225007011%2Cn%3A193870011&dc&fst=as%3Aoff&qid=1589403115&rnid=16225007011&ref=lp_16225007011_nr_n_1',\n",
    "    'https://www.amazon.com/s?bbn=16225007011&rh=n%3A16225007011%2Cn%3A1292110011&dc&fst=as%3Aoff&qid=1589403115&rnid=16225007011&ref=lp_16225007011_nr_n_3',\n",
    "    'https://www.amazon.com/s?bbn=16225007011&rh=n%3A16225007011%2Cn%3A3011391011&dc&fst=as%3Aoff&qid=1589403115&rnid=16225007011&ref=lp_16225007011_nr_n_4',\n",
    "    'https://www.amazon.com/s?bbn=16225007011&rh=n%3A16225007011%2Cn%3A1292115011&dc&fst=as%3Aoff&qid=1589403115&rnid=16225007011&ref=lp_16225007011_nr_n_5'\n",
    "]"
   ]
  },
  {
   "cell_type": "code",
   "execution_count": 4,
   "metadata": {},
   "outputs": [],
   "source": [
    "first_url = categories[0]"
   ]
  },
  {
   "cell_type": "code",
   "execution_count": 5,
   "metadata": {},
   "outputs": [],
   "source": [
    "driver.get(first_url)"
   ]
  },
  {
   "cell_type": "code",
   "execution_count": 6,
   "metadata": {},
   "outputs": [],
   "source": [
    "body_el = driver.find_element_by_css_selector('body')\n",
    "html_str = body_el.get_attribute('innerHTML')"
   ]
  },
  {
   "cell_type": "code",
   "execution_count": 7,
   "metadata": {},
   "outputs": [],
   "source": [
    "html_obj = HTML(html=html_str)"
   ]
  },
  {
   "cell_type": "code",
   "execution_count": 8,
   "metadata": {},
   "outputs": [],
   "source": [
    "new_links = [x for x in html_obj.links if x.startswith('/')]\n",
    "new_links = [x for x in new_links if 'product-reviews/' not in x]"
   ]
  },
  {
   "cell_type": "code",
   "execution_count": 10,
   "metadata": {},
   "outputs": [],
   "source": [
    " page_links = [f'https://www.amazon.com{x}' for x in new_links]"
   ]
  },
  {
   "cell_type": "code",
   "execution_count": 12,
   "metadata": {},
   "outputs": [],
   "source": [
    "def scrape_product_page(url, title_lookup = '#productTitle'\n",
    "    ,price_lookup = '#priceblock_ourprice'):\n",
    "    driver.get(url)\n",
    "    time.sleep(1.5)\n",
    "    body_el = driver.find_element_by_css_selector('body')\n",
    "    html_str = body_el.get_attribute('innerHTML')\n",
    "    html_obj = HTML(html=html_str)\n",
    "    product_title = html_obj.find(title_lookup, first = True).text\n",
    "    product_price = html_obj.find(price_lookup, first = True).text\n",
    "    return product_title, product_price"
   ]
  },
  {
   "cell_type": "code",
   "execution_count": 13,
   "metadata": {},
   "outputs": [],
   "source": [
    "first_product_link = page_links[0]"
   ]
  },
  {
   "cell_type": "code",
   "execution_count": 14,
   "metadata": {
    "scrolled": true
   },
   "outputs": [
    {
     "name": "stdout",
     "output_type": "stream",
     "text": [
      "https://www.amazon.com/Toshiba-HDTB420XK3AA-Canvio-Portable-External/dp/B079D3D8NR/ref=sr_1_10?dchild=1&fst=as%3Aoff&qid=1589404077&rnid=16225007011&s=computers-intl-ship&sr=1-10 Toshiba (HDTB420XK3AA) Canvio Basics 2TB Portable External Hard Drive USB 3.0, Black $58.99\n",
      "https://www.amazon.com/Corsair-Vengeance-2400MHz-Memory-Systems/dp/B00UVN2C2A/ref=sr_1_9?fst=as%3Aoff&qid=1589404077&rnid=16225007011&s=computers-intl-ship&sr=1-9 Corsair Vengeance LPX 4GB DRAM 2400MHz C14 Memory Kit for DDR4 Systems Red $32.06\n",
      "https://www.amazon.com/AMD-Ryzen-3700X-16-Thread-Processor/dp/B07SXMZLPK/ref=sr_1_2?dchild=1&fst=as%3Aoff&qid=1589404077&rnid=16225007011&s=computers-intl-ship&sr=1-2 AMD Ryzen 7 3700X 8-Core, 16-Thread Unlocked Desktop Processor with Wraith Prism LED Cooler $294.14\n",
      "https://www.amazon.com/Toshiba-HDTB420XK3AA-Canvio-Portable-External/dp/B079D3D8NR/ref=sr_1_10?dchild=1&fst=as%3Aoff&qid=1589404077&rnid=16225007011&s=computers-intl-ship&sr=1-10#customerReviews Toshiba (HDTB420XK3AA) Canvio Basics 2TB Portable External Hard Drive USB 3.0, Black $58.99\n",
      "https://www.amazon.com/AMD-Ryzen-3900X-24-Thread-Processor/dp/B07SXMZLP9/ref=sr_1_6?dchild=1&fst=as%3Aoff&qid=1589404077&rnid=16225007011&s=computers-intl-ship&sr=1-6 AMD Ryzen 9 3900X 12-core, 24-thread unlocked desktop processor with Wraith Prism LED Cooler $424.99\n",
      "https://www.amazon.com/GIGABYTE-B450M-DS3H-Ryzen-Motherboard/dp/B07FWVJSHC/ref=sr_1_15?dchild=1&fst=as%3Aoff&qid=1589404077&rnid=16225007011&s=computers-intl-ship&sr=1-15 Gigabyte B450M DS3H (AMD Ryzen AM4/M.2/HMDI/DVI/USB 3.1/DDR4/Micro ATX/Motherboard) $72.99\n",
      "https://www.amazon.com/Corsair-Vengeance-3200MHz-Desktop-Memory/dp/B0143UM4TC/ref=sr_1_9?dchild=1&fst=as%3Aoff&qid=1589404077&rnid=16225007011&s=computers-intl-ship&sr=1-9 Corsair Vengeance LPX 16GB (2x8GB) DDR4 DRAM 3200MHz C16 Desktop Memory Kit - Black (CMK16GX4M2B3200C16),Vengeance LPX Black $79.99\n",
      "https://www.amazon.com/Corsair-CMW32GX4M2C3200C16-Vengeance-PC4-25600-Desktop/dp/B07GTG2T7L/ref=sr_1_16?dchild=1&fst=as%3Aoff&qid=1589404077&rnid=16225007011&s=computers-intl-ship&sr=1-16#customerReviews Corsair CMW32GX4M2C3200C16 VENGEANCE RGB PRO 32GB (2x16GB) DDR4 3200 (PC4-25600) C16 Desktop memory Black $159.99\n",
      "https://www.amazon.com/Seagate-Portable-External-Hard-Drive/dp/B07CRG94G3/ref=sr_1_1?dchild=1&fst=as%3Aoff&qid=1589404077&rnid=16225007011&s=computers-intl-ship&sr=1-1 Seagate STGX2000400 Portable 2TB External Hard Drive Portable HDD - USB 3.0 for PC Laptop, Mac, Xbox & PS4 $69.88\n",
      "https://www.amazon.com/Passport-Portable-External-Drive-Black/dp/B07VTFN6HM/ref=sr_1_11?dchild=1&fst=as%3Aoff&qid=1589404077&rnid=16225007011&s=computers-intl-ship&sr=1-11#customerReviews WD 2TB My Passport Portable External Hard Drive, Black - WDBYVG0020BBK-WESN $64.99\n",
      "https://www.amazon.com/GIGABYTE-B450M-DS3H-Ryzen-Motherboard/dp/B07FWVJSHC/ref=sr_1_15?dchild=1&fst=as%3Aoff&qid=1589404077&rnid=16225007011&s=computers-intl-ship&sr=1-15#customerReviews Gigabyte B450M DS3H (AMD Ryzen AM4/M.2/HMDI/DVI/USB 3.1/DDR4/Micro ATX/Motherboard) $72.99\n",
      "https://www.amazon.com/Corsair-Vengeance-3200MHz-Desktop-Memory/dp/B0143UM4TC/ref=sr_1_9?dchild=1&fst=as%3Aoff&qid=1589404077&rnid=16225007011&s=computers-intl-ship&sr=1-9#customerReviews Corsair Vengeance LPX 16GB (2x8GB) DDR4 DRAM 3200MHz C16 Desktop Memory Kit - Black (CMK16GX4M2B3200C16),Vengeance LPX Black $79.99\n",
      "https://www.amazon.com/AMD-Ryzen-3600X-12-Thread-Processor/dp/B07SQBFN2D/ref=sr_1_7?dchild=1&fst=as%3Aoff&qid=1589404077&rnid=16225007011&s=computers-intl-ship&sr=1-7#customerReviews AMD Ryzen 5 3600X 6-Core, 12-Thread Unlocked Desktop Processor with Wraith Spire Cooler $199.99\n",
      "https://www.amazon.com/Seagate-BarraCuda-Internal-Drive-3-5-Inch/dp/B07H2RR55Q/ref=sr_1_3?dchild=1&fst=as%3Aoff&qid=1589404077&rnid=16225007011&s=computers-intl-ship&sr=1-3 Seagate BarraCuda 2TB Internal Hard Drive HDD – 3.5 Inch SATA 6Gb/s 7200 RPM 256MB Cache 3.5-Inch – Frustration Free Packaging (ST2000DM008) $52.49\n",
      "https://www.amazon.com/Corsair-CMW32GX4M2C3200C16-Vengeance-PC4-25600-Desktop/dp/B07GTG2T7L/ref=sr_1_16?dchild=1&fst=as%3Aoff&qid=1589404077&rnid=16225007011&s=computers-intl-ship&sr=1-16 Corsair CMW32GX4M2C3200C16 VENGEANCE RGB PRO 32GB (2x16GB) DDR4 3200 (PC4-25600) C16 Desktop memory Black $159.99\n",
      "https://www.amazon.com/Samsung-Inch-Internal-MZ-76Q1T0B-AM/dp/B07L3D19MY/ref=sr_1_8?dchild=1&fst=as%3Aoff&qid=1589404077&rnid=16225007011&s=computers-intl-ship&sr=1-8#customerReviews Samsung 860 QVO 1TB Solid State Drive (MZ-76Q1T0) V-NAND, SATA 6Gb/s, Quality and Value Optimized SSD $127.93\n",
      "https://www.amazon.com/Intel-i7-9700K-Desktop-Processor-Unlocked/dp/B07HHN6KBZ/ref=sr_1_13?dchild=1&fst=as%3Aoff&qid=1589404077&rnid=16225007011&s=computers-intl-ship&sr=1-13 Intel Core i7-9700K Desktop Processor 8 Cores up to 4.9 GHz Turbo unlocked LGA1151 300 Series 95W $379.59\n",
      "https://www.amazon.com/Samsung-970-EVO-1TB-MZ-V7E1T0BW/dp/B07BN217QG/ref=sr_1_5?dchild=1&fst=as%3Aoff&qid=1589404077&rnid=16225007011&s=computers-intl-ship&sr=1-5#customerReviews Samsung (MZ-V7E1T0BW) 970 EVO SSD 1TB - M.2 NVMe Interface Internal Solid State Drive with V-NAND Technology, Black/Red $179.99\n",
      "https://www.amazon.com/Samsung-500GB-Internal-MZ-76E500B-AM/dp/B0781Z7Y3S/ref=sr_1_4?dchild=1&fst=as%3Aoff&qid=1589404077&rnid=16225007011&s=computers-intl-ship&sr=1-4#customerReviews Samsung 860 EVO 500GB 2.5 Inch SATA III Internal SSD (MZ-76E500B/AM) $94.99\n",
      "https://www.amazon.com/Passport-Portable-External-Drive-Black/dp/B07VTFN6HM/ref=sr_1_11?dchild=1&fst=as%3Aoff&qid=1589404077&rnid=16225007011&s=computers-intl-ship&sr=1-11 WD 2TB My Passport Portable External Hard Drive, Black - WDBYVG0020BBK-WESN $64.99\n",
      "https://www.amazon.com/Seagate-BarraCuda-Internal-Drive-3-5-Inch/dp/B07H2RR55Q/ref=sr_1_3?dchild=1&fst=as%3Aoff&qid=1589404077&rnid=16225007011&s=computers-intl-ship&sr=1-3#customerReviews Seagate BarraCuda 2TB Internal Hard Drive HDD – 3.5 Inch SATA 6Gb/s 7200 RPM 256MB Cache 3.5-Inch – Frustration Free Packaging (ST2000DM008) $52.49\n",
      "https://www.amazon.com/Corsair-Vengeance-2x4GB-2400MHz-Memory/dp/B019HVO7II/ref=sr_1_9?fst=as%3Aoff&qid=1589404077&rnid=16225007011&s=computers-intl-ship&sr=1-9 Corsair Vengeance LPX 8GB (2x4GB) DDR4 DRAM 2400MHz (PC4 19200) C16 Memory Kit - Red $48.99\n",
      "https://www.amazon.com/Kingston-240GB-Solid-SA400S37-240G/dp/B01N5IB20Q/ref=sr_1_14?dchild=1&fst=as%3Aoff&qid=1589404077&rnid=16225007011&s=computers-intl-ship&sr=1-14#customerReviews Kingston 240GB A400 SATA 3 2.5\" Internal SSD SA400S37/240G - HDD Replacement for Increase Performance $39.99\n",
      "https://www.amazon.com/Samsung-Inch-Internal-MZ-76Q1T0B-AM/dp/B07L3D19MY/ref=sr_1_8?dchild=1&fst=as%3Aoff&qid=1589404077&rnid=16225007011&s=computers-intl-ship&sr=1-8 Samsung 860 QVO 1TB Solid State Drive (MZ-76Q1T0) V-NAND, SATA 6Gb/s, Quality and Value Optimized SSD $127.93\n",
      "https://www.amazon.com/AMD-Ryzen-3600X-12-Thread-Processor/dp/B07SQBFN2D/ref=sr_1_7?dchild=1&fst=as%3Aoff&qid=1589404077&rnid=16225007011&s=computers-intl-ship&sr=1-7 AMD Ryzen 5 3600X 6-Core, 12-Thread Unlocked Desktop Processor with Wraith Spire Cooler $199.99\n",
      "https://www.amazon.com/Samsung-500GB-Internal-MZ-76E500B-AM/dp/B0781Z7Y3S/ref=sr_1_4?dchild=1&fst=as%3Aoff&qid=1589404077&rnid=16225007011&s=computers-intl-ship&sr=1-4 Samsung 860 EVO 500GB 2.5 Inch SATA III Internal SSD (MZ-76E500B/AM) $94.99\n",
      "https://www.amazon.com/Corsair-Vengeance-DDR4-Memory-PC4-19200/dp/B00UVN2BO4/ref=sr_1_9?fst=as%3Aoff&qid=1589404077&rnid=16225007011&s=computers-intl-ship&sr=1-9 Corsair Vengeance LPX 4 GB DDR4 DRAM 2400 MHz C14 Memory Kit PC4-19200 $37.32\n"
     ]
    }
   ],
   "source": [
    "for link in page_links:\n",
    "    title, price = (None, None)\n",
    "    try:\n",
    "        title, price = scrape_product_page(link)\n",
    "    except:\n",
    "        pass\n",
    "    if title != None and price !=None:\n",
    "        print(link, title, price)"
   ]
  },
  {
   "cell_type": "code",
   "execution_count": 16,
   "metadata": {},
   "outputs": [],
   "source": [
    "# https://www.amazon.com/Toshiba-HDTB420XK3AA-Canvio-Portable-External/dp/B079D3D8NR/\n",
    "# <base-url>/<slug>/dp/<product-id>\n"
   ]
  },
  {
   "cell_type": "code",
   "execution_count": null,
   "metadata": {},
   "outputs": [],
   "source": []
  }
 ],
 "metadata": {
  "kernelspec": {
   "display_name": "Python 3",
   "language": "python",
   "name": "python3"
  },
  "language_info": {
   "codemirror_mode": {
    "name": "ipython",
    "version": 3
   },
   "file_extension": ".py",
   "mimetype": "text/x-python",
   "name": "python",
   "nbconvert_exporter": "python",
   "pygments_lexer": "ipython3",
   "version": "3.8.1"
  }
 },
 "nbformat": 4,
 "nbformat_minor": 4
}
